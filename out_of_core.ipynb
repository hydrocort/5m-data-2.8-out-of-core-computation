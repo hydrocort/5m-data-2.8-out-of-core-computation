{
 "cells": [
  {
   "cell_type": "markdown",
   "metadata": {},
   "source": [
    "# Out-of-core Computation and Data Frames"
   ]
  },
  {
   "cell_type": "markdown",
   "metadata": {},
   "source": [
    "## Hands-on with Pandas and Polars\n",
    "\n",
    "The dataset we will be using is the [Full MovieLens Dataset](https://www.kaggle.com/datasets/rounakbanik/the-movies-dataset?select=movies_metadata.csv). There are 2 files:\n",
    "\n",
    "- `movies_metadata.csv`: The main Movies Metadata file. Contains information on 45,000 movies featured in the Full MovieLens dataset. Features include posters, backdrops, budget, revenue, release dates, languages, production countries and companies.\n",
    "- `ratings.csv`: The main rating file. Contains about 26 million ratings for 45,000 movies by 270,000 users. Ratings are on a scale of 1-5 and have been obtained from the official GroupLens website.\n",
    "\n",
    "The files are stored in Google Cloud Storage (GCS), with public URLs available for download. Let's download the files and store them in the `data` folder using the `requests` library."
   ]
  },
  {
   "cell_type": "code",
   "execution_count": 1,
   "metadata": {},
   "outputs": [],
   "source": [
    "import requests\n",
    "import os"
   ]
  },
  {
   "cell_type": "code",
   "execution_count": 2,
   "metadata": {},
   "outputs": [],
   "source": [
    "# Create a folder to store the data\n",
    "os.makedirs(\"data\", exist_ok=True)"
   ]
  },
  {
   "cell_type": "code",
   "execution_count": 3,
   "metadata": {},
   "outputs": [],
   "source": [
    "# Download the files\n",
    "gcs_bucket_url = \"https://storage.googleapis.com/su-artifacts/\"\n",
    "file_names = [\"movies_metadata.csv\", \"ratings.csv\"]\n",
    "for name in file_names:\n",
    "    full_url = gcs_bucket_url + name\n",
    "    r = requests.get(full_url)\n",
    "    with open(\"data/\" + name, \"wb\") as f:\n",
    "        f.write(r.content)"
   ]
  },
  {
   "cell_type": "code",
   "execution_count": 4,
   "metadata": {},
   "outputs": [],
   "source": [
    "import pandas as pd\n",
    "import polars as pl\n",
    "import seaborn as sns"
   ]
  },
  {
   "cell_type": "markdown",
   "metadata": {},
   "source": [
    "In Jupyter notebooks, we can use the `%%timeit` magic command to measure the execution time of a cell. It runs the cell multiple times and reports the average execution time. However, it will discard the results of the run."
   ]
  },
  {
   "cell_type": "code",
   "execution_count": null,
   "metadata": {},
   "outputs": [
    {
     "name": "stderr",
     "output_type": "stream",
     "text": [
      "<magic-timeit>:1: DtypeWarning: Columns (10) have mixed types. Specify dtype option on import or set low_memory=False.\n",
      "<magic-timeit>:1: DtypeWarning: Columns (10) have mixed types. Specify dtype option on import or set low_memory=False.\n",
      "<magic-timeit>:1: DtypeWarning: Columns (10) have mixed types. Specify dtype option on import or set low_memory=False.\n",
      "<magic-timeit>:1: DtypeWarning: Columns (10) have mixed types. Specify dtype option on import or set low_memory=False.\n",
      "<magic-timeit>:1: DtypeWarning: Columns (10) have mixed types. Specify dtype option on import or set low_memory=False.\n",
      "<magic-timeit>:1: DtypeWarning: Columns (10) have mixed types. Specify dtype option on import or set low_memory=False.\n",
      "<magic-timeit>:1: DtypeWarning: Columns (10) have mixed types. Specify dtype option on import or set low_memory=False.\n"
     ]
    },
    {
     "name": "stdout",
     "output_type": "stream",
     "text": [
      "235 ms ± 5.9 ms per loop (mean ± std. dev. of 7 runs, 1 loop each)\n"
     ]
    },
    {
     "name": "stderr",
     "output_type": "stream",
     "text": [
      "<magic-timeit>:1: DtypeWarning: Columns (10) have mixed types. Specify dtype option on import or set low_memory=False.\n"
     ]
    }
   ],
   "source": [
    "%%timeit # magic command to measure the execution time of a cell\n",
    "metadata_pd = pd.read_csv(\"data/movies_metadata.csv\")"
   ]
  },
  {
   "cell_type": "markdown",
   "metadata": {},
   "source": [
    "We'll need to re-run the the same code to actually get the results."
   ]
  },
  {
   "cell_type": "code",
   "execution_count": 6,
   "metadata": {},
   "outputs": [
    {
     "name": "stderr",
     "output_type": "stream",
     "text": [
      "/tmp/ipykernel_145716/2158343103.py:1: DtypeWarning: Columns (10) have mixed types. Specify dtype option on import or set low_memory=False.\n",
      "  metadata_pd = pd.read_csv(\"data/movies_metadata.csv\")\n"
     ]
    }
   ],
   "source": [
    "metadata_pd = pd.read_csv(\"data/movies_metadata.csv\")"
   ]
  },
  {
   "cell_type": "code",
   "execution_count": 7,
   "metadata": {},
   "outputs": [
    {
     "name": "stdout",
     "output_type": "stream",
     "text": [
      "3.59 s ± 198 ms per loop (mean ± std. dev. of 7 runs, 1 loop each)\n"
     ]
    }
   ],
   "source": [
    "%%timeit\n",
    "ratings_pd = pd.read_csv(\"data/ratings.csv\")"
   ]
  },
  {
   "cell_type": "code",
   "execution_count": 8,
   "metadata": {},
   "outputs": [],
   "source": [
    "ratings_pd = pd.read_csv(\"data/ratings.csv\")"
   ]
  },
  {
   "cell_type": "code",
   "execution_count": 10,
   "metadata": {},
   "outputs": [
    {
     "data": {
      "text/plain": [
       "(45466, 24)"
      ]
     },
     "execution_count": 10,
     "metadata": {},
     "output_type": "execute_result"
    }
   ],
   "source": [
    "metadata_pd.shape"
   ]
  },
  {
   "cell_type": "code",
   "execution_count": 11,
   "metadata": {},
   "outputs": [
    {
     "data": {
      "text/html": [
       "<div>\n",
       "<style scoped>\n",
       "    .dataframe tbody tr th:only-of-type {\n",
       "        vertical-align: middle;\n",
       "    }\n",
       "\n",
       "    .dataframe tbody tr th {\n",
       "        vertical-align: top;\n",
       "    }\n",
       "\n",
       "    .dataframe thead th {\n",
       "        text-align: right;\n",
       "    }\n",
       "</style>\n",
       "<table border=\"1\" class=\"dataframe\">\n",
       "  <thead>\n",
       "    <tr style=\"text-align: right;\">\n",
       "      <th></th>\n",
       "      <th>adult</th>\n",
       "      <th>belongs_to_collection</th>\n",
       "      <th>budget</th>\n",
       "      <th>genres</th>\n",
       "      <th>homepage</th>\n",
       "      <th>id</th>\n",
       "      <th>imdb_id</th>\n",
       "      <th>original_language</th>\n",
       "      <th>original_title</th>\n",
       "      <th>overview</th>\n",
       "      <th>...</th>\n",
       "      <th>release_date</th>\n",
       "      <th>revenue</th>\n",
       "      <th>runtime</th>\n",
       "      <th>spoken_languages</th>\n",
       "      <th>status</th>\n",
       "      <th>tagline</th>\n",
       "      <th>title</th>\n",
       "      <th>video</th>\n",
       "      <th>vote_average</th>\n",
       "      <th>vote_count</th>\n",
       "    </tr>\n",
       "  </thead>\n",
       "  <tbody>\n",
       "    <tr>\n",
       "      <th>0</th>\n",
       "      <td>False</td>\n",
       "      <td>{'id': 10194, 'name': 'Toy Story Collection', ...</td>\n",
       "      <td>30000000</td>\n",
       "      <td>[{'id': 16, 'name': 'Animation'}, {'id': 35, '...</td>\n",
       "      <td>http://toystory.disney.com/toy-story</td>\n",
       "      <td>862</td>\n",
       "      <td>tt0114709</td>\n",
       "      <td>en</td>\n",
       "      <td>Toy Story</td>\n",
       "      <td>Led by Woody, Andy's toys live happily in his ...</td>\n",
       "      <td>...</td>\n",
       "      <td>1995-10-30</td>\n",
       "      <td>373554033.0</td>\n",
       "      <td>81.0</td>\n",
       "      <td>[{'iso_639_1': 'en', 'name': 'English'}]</td>\n",
       "      <td>Released</td>\n",
       "      <td>NaN</td>\n",
       "      <td>Toy Story</td>\n",
       "      <td>False</td>\n",
       "      <td>7.7</td>\n",
       "      <td>5415.0</td>\n",
       "    </tr>\n",
       "    <tr>\n",
       "      <th>1</th>\n",
       "      <td>False</td>\n",
       "      <td>NaN</td>\n",
       "      <td>65000000</td>\n",
       "      <td>[{'id': 12, 'name': 'Adventure'}, {'id': 14, '...</td>\n",
       "      <td>NaN</td>\n",
       "      <td>8844</td>\n",
       "      <td>tt0113497</td>\n",
       "      <td>en</td>\n",
       "      <td>Jumanji</td>\n",
       "      <td>When siblings Judy and Peter discover an encha...</td>\n",
       "      <td>...</td>\n",
       "      <td>1995-12-15</td>\n",
       "      <td>262797249.0</td>\n",
       "      <td>104.0</td>\n",
       "      <td>[{'iso_639_1': 'en', 'name': 'English'}, {'iso...</td>\n",
       "      <td>Released</td>\n",
       "      <td>Roll the dice and unleash the excitement!</td>\n",
       "      <td>Jumanji</td>\n",
       "      <td>False</td>\n",
       "      <td>6.9</td>\n",
       "      <td>2413.0</td>\n",
       "    </tr>\n",
       "    <tr>\n",
       "      <th>2</th>\n",
       "      <td>False</td>\n",
       "      <td>{'id': 119050, 'name': 'Grumpy Old Men Collect...</td>\n",
       "      <td>0</td>\n",
       "      <td>[{'id': 10749, 'name': 'Romance'}, {'id': 35, ...</td>\n",
       "      <td>NaN</td>\n",
       "      <td>15602</td>\n",
       "      <td>tt0113228</td>\n",
       "      <td>en</td>\n",
       "      <td>Grumpier Old Men</td>\n",
       "      <td>A family wedding reignites the ancient feud be...</td>\n",
       "      <td>...</td>\n",
       "      <td>1995-12-22</td>\n",
       "      <td>0.0</td>\n",
       "      <td>101.0</td>\n",
       "      <td>[{'iso_639_1': 'en', 'name': 'English'}]</td>\n",
       "      <td>Released</td>\n",
       "      <td>Still Yelling. Still Fighting. Still Ready for...</td>\n",
       "      <td>Grumpier Old Men</td>\n",
       "      <td>False</td>\n",
       "      <td>6.5</td>\n",
       "      <td>92.0</td>\n",
       "    </tr>\n",
       "    <tr>\n",
       "      <th>3</th>\n",
       "      <td>False</td>\n",
       "      <td>NaN</td>\n",
       "      <td>16000000</td>\n",
       "      <td>[{'id': 35, 'name': 'Comedy'}, {'id': 18, 'nam...</td>\n",
       "      <td>NaN</td>\n",
       "      <td>31357</td>\n",
       "      <td>tt0114885</td>\n",
       "      <td>en</td>\n",
       "      <td>Waiting to Exhale</td>\n",
       "      <td>Cheated on, mistreated and stepped on, the wom...</td>\n",
       "      <td>...</td>\n",
       "      <td>1995-12-22</td>\n",
       "      <td>81452156.0</td>\n",
       "      <td>127.0</td>\n",
       "      <td>[{'iso_639_1': 'en', 'name': 'English'}]</td>\n",
       "      <td>Released</td>\n",
       "      <td>Friends are the people who let you be yourself...</td>\n",
       "      <td>Waiting to Exhale</td>\n",
       "      <td>False</td>\n",
       "      <td>6.1</td>\n",
       "      <td>34.0</td>\n",
       "    </tr>\n",
       "    <tr>\n",
       "      <th>4</th>\n",
       "      <td>False</td>\n",
       "      <td>{'id': 96871, 'name': 'Father of the Bride Col...</td>\n",
       "      <td>0</td>\n",
       "      <td>[{'id': 35, 'name': 'Comedy'}]</td>\n",
       "      <td>NaN</td>\n",
       "      <td>11862</td>\n",
       "      <td>tt0113041</td>\n",
       "      <td>en</td>\n",
       "      <td>Father of the Bride Part II</td>\n",
       "      <td>Just when George Banks has recovered from his ...</td>\n",
       "      <td>...</td>\n",
       "      <td>1995-02-10</td>\n",
       "      <td>76578911.0</td>\n",
       "      <td>106.0</td>\n",
       "      <td>[{'iso_639_1': 'en', 'name': 'English'}]</td>\n",
       "      <td>Released</td>\n",
       "      <td>Just When His World Is Back To Normal... He's ...</td>\n",
       "      <td>Father of the Bride Part II</td>\n",
       "      <td>False</td>\n",
       "      <td>5.7</td>\n",
       "      <td>173.0</td>\n",
       "    </tr>\n",
       "  </tbody>\n",
       "</table>\n",
       "<p>5 rows × 24 columns</p>\n",
       "</div>"
      ],
      "text/plain": [
       "   adult                              belongs_to_collection    budget  \\\n",
       "0  False  {'id': 10194, 'name': 'Toy Story Collection', ...  30000000   \n",
       "1  False                                                NaN  65000000   \n",
       "2  False  {'id': 119050, 'name': 'Grumpy Old Men Collect...         0   \n",
       "3  False                                                NaN  16000000   \n",
       "4  False  {'id': 96871, 'name': 'Father of the Bride Col...         0   \n",
       "\n",
       "                                              genres  \\\n",
       "0  [{'id': 16, 'name': 'Animation'}, {'id': 35, '...   \n",
       "1  [{'id': 12, 'name': 'Adventure'}, {'id': 14, '...   \n",
       "2  [{'id': 10749, 'name': 'Romance'}, {'id': 35, ...   \n",
       "3  [{'id': 35, 'name': 'Comedy'}, {'id': 18, 'nam...   \n",
       "4                     [{'id': 35, 'name': 'Comedy'}]   \n",
       "\n",
       "                               homepage     id    imdb_id original_language  \\\n",
       "0  http://toystory.disney.com/toy-story    862  tt0114709                en   \n",
       "1                                   NaN   8844  tt0113497                en   \n",
       "2                                   NaN  15602  tt0113228                en   \n",
       "3                                   NaN  31357  tt0114885                en   \n",
       "4                                   NaN  11862  tt0113041                en   \n",
       "\n",
       "                original_title  \\\n",
       "0                    Toy Story   \n",
       "1                      Jumanji   \n",
       "2             Grumpier Old Men   \n",
       "3            Waiting to Exhale   \n",
       "4  Father of the Bride Part II   \n",
       "\n",
       "                                            overview  ... release_date  \\\n",
       "0  Led by Woody, Andy's toys live happily in his ...  ...   1995-10-30   \n",
       "1  When siblings Judy and Peter discover an encha...  ...   1995-12-15   \n",
       "2  A family wedding reignites the ancient feud be...  ...   1995-12-22   \n",
       "3  Cheated on, mistreated and stepped on, the wom...  ...   1995-12-22   \n",
       "4  Just when George Banks has recovered from his ...  ...   1995-02-10   \n",
       "\n",
       "       revenue runtime                                   spoken_languages  \\\n",
       "0  373554033.0    81.0           [{'iso_639_1': 'en', 'name': 'English'}]   \n",
       "1  262797249.0   104.0  [{'iso_639_1': 'en', 'name': 'English'}, {'iso...   \n",
       "2          0.0   101.0           [{'iso_639_1': 'en', 'name': 'English'}]   \n",
       "3   81452156.0   127.0           [{'iso_639_1': 'en', 'name': 'English'}]   \n",
       "4   76578911.0   106.0           [{'iso_639_1': 'en', 'name': 'English'}]   \n",
       "\n",
       "     status                                            tagline  \\\n",
       "0  Released                                                NaN   \n",
       "1  Released          Roll the dice and unleash the excitement!   \n",
       "2  Released  Still Yelling. Still Fighting. Still Ready for...   \n",
       "3  Released  Friends are the people who let you be yourself...   \n",
       "4  Released  Just When His World Is Back To Normal... He's ...   \n",
       "\n",
       "                         title  video vote_average vote_count  \n",
       "0                    Toy Story  False          7.7     5415.0  \n",
       "1                      Jumanji  False          6.9     2413.0  \n",
       "2             Grumpier Old Men  False          6.5       92.0  \n",
       "3            Waiting to Exhale  False          6.1       34.0  \n",
       "4  Father of the Bride Part II  False          5.7      173.0  \n",
       "\n",
       "[5 rows x 24 columns]"
      ]
     },
     "execution_count": 11,
     "metadata": {},
     "output_type": "execute_result"
    }
   ],
   "source": [
    "metadata_pd.head()"
   ]
  },
  {
   "cell_type": "code",
   "execution_count": 12,
   "metadata": {},
   "outputs": [
    {
     "data": {
      "text/plain": [
       "adult                     object\n",
       "belongs_to_collection     object\n",
       "budget                    object\n",
       "genres                    object\n",
       "homepage                  object\n",
       "id                        object\n",
       "imdb_id                   object\n",
       "original_language         object\n",
       "original_title            object\n",
       "overview                  object\n",
       "popularity                object\n",
       "poster_path               object\n",
       "production_companies      object\n",
       "production_countries      object\n",
       "release_date              object\n",
       "revenue                  float64\n",
       "runtime                  float64\n",
       "spoken_languages          object\n",
       "status                    object\n",
       "tagline                   object\n",
       "title                     object\n",
       "video                     object\n",
       "vote_average             float64\n",
       "vote_count               float64\n",
       "dtype: object"
      ]
     },
     "execution_count": 12,
     "metadata": {},
     "output_type": "execute_result"
    }
   ],
   "source": [
    "metadata_pd.dtypes"
   ]
  },
  {
   "cell_type": "code",
   "execution_count": 13,
   "metadata": {},
   "outputs": [
    {
     "data": {
      "text/plain": [
       "(26024289, 4)"
      ]
     },
     "execution_count": 13,
     "metadata": {},
     "output_type": "execute_result"
    }
   ],
   "source": [
    "ratings_pd.shape"
   ]
  },
  {
   "cell_type": "code",
   "execution_count": 14,
   "metadata": {},
   "outputs": [
    {
     "data": {
      "text/html": [
       "<div>\n",
       "<style scoped>\n",
       "    .dataframe tbody tr th:only-of-type {\n",
       "        vertical-align: middle;\n",
       "    }\n",
       "\n",
       "    .dataframe tbody tr th {\n",
       "        vertical-align: top;\n",
       "    }\n",
       "\n",
       "    .dataframe thead th {\n",
       "        text-align: right;\n",
       "    }\n",
       "</style>\n",
       "<table border=\"1\" class=\"dataframe\">\n",
       "  <thead>\n",
       "    <tr style=\"text-align: right;\">\n",
       "      <th></th>\n",
       "      <th>userId</th>\n",
       "      <th>movieId</th>\n",
       "      <th>rating</th>\n",
       "      <th>timestamp</th>\n",
       "    </tr>\n",
       "  </thead>\n",
       "  <tbody>\n",
       "    <tr>\n",
       "      <th>0</th>\n",
       "      <td>1</td>\n",
       "      <td>110</td>\n",
       "      <td>1.0</td>\n",
       "      <td>1425941529</td>\n",
       "    </tr>\n",
       "    <tr>\n",
       "      <th>1</th>\n",
       "      <td>1</td>\n",
       "      <td>147</td>\n",
       "      <td>4.5</td>\n",
       "      <td>1425942435</td>\n",
       "    </tr>\n",
       "    <tr>\n",
       "      <th>2</th>\n",
       "      <td>1</td>\n",
       "      <td>858</td>\n",
       "      <td>5.0</td>\n",
       "      <td>1425941523</td>\n",
       "    </tr>\n",
       "    <tr>\n",
       "      <th>3</th>\n",
       "      <td>1</td>\n",
       "      <td>1221</td>\n",
       "      <td>5.0</td>\n",
       "      <td>1425941546</td>\n",
       "    </tr>\n",
       "    <tr>\n",
       "      <th>4</th>\n",
       "      <td>1</td>\n",
       "      <td>1246</td>\n",
       "      <td>5.0</td>\n",
       "      <td>1425941556</td>\n",
       "    </tr>\n",
       "  </tbody>\n",
       "</table>\n",
       "</div>"
      ],
      "text/plain": [
       "   userId  movieId  rating   timestamp\n",
       "0       1      110     1.0  1425941529\n",
       "1       1      147     4.5  1425942435\n",
       "2       1      858     5.0  1425941523\n",
       "3       1     1221     5.0  1425941546\n",
       "4       1     1246     5.0  1425941556"
      ]
     },
     "execution_count": 14,
     "metadata": {},
     "output_type": "execute_result"
    }
   ],
   "source": [
    "ratings_pd.head()"
   ]
  },
  {
   "cell_type": "code",
   "execution_count": 15,
   "metadata": {},
   "outputs": [
    {
     "data": {
      "text/plain": [
       "userId         int64\n",
       "movieId        int64\n",
       "rating       float64\n",
       "timestamp      int64\n",
       "dtype: object"
      ]
     },
     "execution_count": 15,
     "metadata": {},
     "output_type": "execute_result"
    }
   ],
   "source": [
    "ratings_pd.dtypes"
   ]
  },
  {
   "cell_type": "code",
   "execution_count": 16,
   "metadata": {},
   "outputs": [
    {
     "name": "stdout",
     "output_type": "stream",
     "text": [
      "112 ms ± 655 μs per loop (mean ± std. dev. of 7 runs, 10 loops each)\n"
     ]
    }
   ],
   "source": [
    "%%timeit\n",
    "metadata_pl = pl.read_csv(\"data/movies_metadata.csv\",\n",
    "                          infer_schema_length=100000)"
   ]
  },
  {
   "cell_type": "code",
   "execution_count": 17,
   "metadata": {},
   "outputs": [],
   "source": [
    "metadata_pl = pl.read_csv(\"data/movies_metadata.csv\",\n",
    "                          infer_schema_length=100000)"
   ]
  },
  {
   "cell_type": "code",
   "execution_count": 18,
   "metadata": {},
   "outputs": [
    {
     "data": {
      "text/html": [
       "<div><style>\n",
       ".dataframe > thead > tr > th,\n",
       ".dataframe > tbody > tr > td {\n",
       "  text-align: right;\n",
       "  white-space: pre-wrap;\n",
       "}\n",
       "</style>\n",
       "<small>shape: (5, 24)</small><table border=\"1\" class=\"dataframe\"><thead><tr><th>adult</th><th>belongs_to_collection</th><th>budget</th><th>genres</th><th>homepage</th><th>id</th><th>imdb_id</th><th>original_language</th><th>original_title</th><th>overview</th><th>popularity</th><th>poster_path</th><th>production_companies</th><th>production_countries</th><th>release_date</th><th>revenue</th><th>runtime</th><th>spoken_languages</th><th>status</th><th>tagline</th><th>title</th><th>video</th><th>vote_average</th><th>vote_count</th></tr><tr><td>str</td><td>str</td><td>str</td><td>str</td><td>str</td><td>str</td><td>str</td><td>str</td><td>str</td><td>str</td><td>str</td><td>str</td><td>str</td><td>str</td><td>str</td><td>i64</td><td>f64</td><td>str</td><td>str</td><td>str</td><td>str</td><td>bool</td><td>f64</td><td>i64</td></tr></thead><tbody><tr><td>&quot;False&quot;</td><td>&quot;{&#x27;id&#x27;: 10194, …</td><td>&quot;30000000&quot;</td><td>&quot;[{&#x27;id&#x27;: 16, &#x27;n…</td><td>&quot;http://toystor…</td><td>&quot;862&quot;</td><td>&quot;tt0114709&quot;</td><td>&quot;en&quot;</td><td>&quot;Toy Story&quot;</td><td>&quot;Led by Woody, …</td><td>&quot;21.946943&quot;</td><td>&quot;/rhIRbceoE9lR4…</td><td>&quot;[{&#x27;name&#x27;: &#x27;Pix…</td><td>&quot;[{&#x27;iso_3166_1&#x27;…</td><td>&quot;1995-10-30&quot;</td><td>373554033</td><td>81.0</td><td>&quot;[{&#x27;iso_639_1&#x27;:…</td><td>&quot;Released&quot;</td><td>null</td><td>&quot;Toy Story&quot;</td><td>false</td><td>7.7</td><td>5415</td></tr><tr><td>&quot;False&quot;</td><td>null</td><td>&quot;65000000&quot;</td><td>&quot;[{&#x27;id&#x27;: 12, &#x27;n…</td><td>null</td><td>&quot;8844&quot;</td><td>&quot;tt0113497&quot;</td><td>&quot;en&quot;</td><td>&quot;Jumanji&quot;</td><td>&quot;When siblings …</td><td>&quot;17.015539&quot;</td><td>&quot;/vzmL6fP7aPKNK…</td><td>&quot;[{&#x27;name&#x27;: &#x27;Tri…</td><td>&quot;[{&#x27;iso_3166_1&#x27;…</td><td>&quot;1995-12-15&quot;</td><td>262797249</td><td>104.0</td><td>&quot;[{&#x27;iso_639_1&#x27;:…</td><td>&quot;Released&quot;</td><td>&quot;Roll the dice …</td><td>&quot;Jumanji&quot;</td><td>false</td><td>6.9</td><td>2413</td></tr><tr><td>&quot;False&quot;</td><td>&quot;{&#x27;id&#x27;: 119050,…</td><td>&quot;0&quot;</td><td>&quot;[{&#x27;id&#x27;: 10749,…</td><td>null</td><td>&quot;15602&quot;</td><td>&quot;tt0113228&quot;</td><td>&quot;en&quot;</td><td>&quot;Grumpier Old M…</td><td>&quot;A family weddi…</td><td>&quot;11.7129&quot;</td><td>&quot;/6ksm1sjKMFLbO…</td><td>&quot;[{&#x27;name&#x27;: &#x27;War…</td><td>&quot;[{&#x27;iso_3166_1&#x27;…</td><td>&quot;1995-12-22&quot;</td><td>0</td><td>101.0</td><td>&quot;[{&#x27;iso_639_1&#x27;:…</td><td>&quot;Released&quot;</td><td>&quot;Still Yelling.…</td><td>&quot;Grumpier Old M…</td><td>false</td><td>6.5</td><td>92</td></tr><tr><td>&quot;False&quot;</td><td>null</td><td>&quot;16000000&quot;</td><td>&quot;[{&#x27;id&#x27;: 35, &#x27;n…</td><td>null</td><td>&quot;31357&quot;</td><td>&quot;tt0114885&quot;</td><td>&quot;en&quot;</td><td>&quot;Waiting to Exh…</td><td>&quot;Cheated on, mi…</td><td>&quot;3.859495&quot;</td><td>&quot;/16XOMpEaLWkrc…</td><td>&quot;[{&#x27;name&#x27;: &#x27;Twe…</td><td>&quot;[{&#x27;iso_3166_1&#x27;…</td><td>&quot;1995-12-22&quot;</td><td>81452156</td><td>127.0</td><td>&quot;[{&#x27;iso_639_1&#x27;:…</td><td>&quot;Released&quot;</td><td>&quot;Friends are th…</td><td>&quot;Waiting to Exh…</td><td>false</td><td>6.1</td><td>34</td></tr><tr><td>&quot;False&quot;</td><td>&quot;{&#x27;id&#x27;: 96871, …</td><td>&quot;0&quot;</td><td>&quot;[{&#x27;id&#x27;: 35, &#x27;n…</td><td>null</td><td>&quot;11862&quot;</td><td>&quot;tt0113041&quot;</td><td>&quot;en&quot;</td><td>&quot;Father of the …</td><td>&quot;Just when Geor…</td><td>&quot;8.387519&quot;</td><td>&quot;/e64sOI48hQXyr…</td><td>&quot;[{&#x27;name&#x27;: &#x27;San…</td><td>&quot;[{&#x27;iso_3166_1&#x27;…</td><td>&quot;1995-02-10&quot;</td><td>76578911</td><td>106.0</td><td>&quot;[{&#x27;iso_639_1&#x27;:…</td><td>&quot;Released&quot;</td><td>&quot;Just When His …</td><td>&quot;Father of the …</td><td>false</td><td>5.7</td><td>173</td></tr></tbody></table></div>"
      ],
      "text/plain": [
       "shape: (5, 24)\n",
       "┌───────┬─────────────┬──────────┬─────────────┬───┬─────────────┬───────┬────────────┬────────────┐\n",
       "│ adult ┆ belongs_to_ ┆ budget   ┆ genres      ┆ … ┆ title       ┆ video ┆ vote_avera ┆ vote_count │\n",
       "│ ---   ┆ collection  ┆ ---      ┆ ---         ┆   ┆ ---         ┆ ---   ┆ ge         ┆ ---        │\n",
       "│ str   ┆ ---         ┆ str      ┆ str         ┆   ┆ str         ┆ bool  ┆ ---        ┆ i64        │\n",
       "│       ┆ str         ┆          ┆             ┆   ┆             ┆       ┆ f64        ┆            │\n",
       "╞═══════╪═════════════╪══════════╪═════════════╪═══╪═════════════╪═══════╪════════════╪════════════╡\n",
       "│ False ┆ {'id':      ┆ 30000000 ┆ [{'id': 16, ┆ … ┆ Toy Story   ┆ false ┆ 7.7        ┆ 5415       │\n",
       "│       ┆ 10194,      ┆          ┆ 'name': 'An ┆   ┆             ┆       ┆            ┆            │\n",
       "│       ┆ 'name':     ┆          ┆ imation'}…  ┆   ┆             ┆       ┆            ┆            │\n",
       "│       ┆ 'Toy Story… ┆          ┆             ┆   ┆             ┆       ┆            ┆            │\n",
       "│ False ┆ null        ┆ 65000000 ┆ [{'id': 12, ┆ … ┆ Jumanji     ┆ false ┆ 6.9        ┆ 2413       │\n",
       "│       ┆             ┆          ┆ 'name': 'Ad ┆   ┆             ┆       ┆            ┆            │\n",
       "│       ┆             ┆          ┆ venture'}…  ┆   ┆             ┆       ┆            ┆            │\n",
       "│ False ┆ {'id':      ┆ 0        ┆ [{'id':     ┆ … ┆ Grumpier    ┆ false ┆ 6.5        ┆ 92         │\n",
       "│       ┆ 119050,     ┆          ┆ 10749,      ┆   ┆ Old Men     ┆       ┆            ┆            │\n",
       "│       ┆ 'name':     ┆          ┆ 'name':     ┆   ┆             ┆       ┆            ┆            │\n",
       "│       ┆ 'Grumpy O…  ┆          ┆ 'Romance'…  ┆   ┆             ┆       ┆            ┆            │\n",
       "│ False ┆ null        ┆ 16000000 ┆ [{'id': 35, ┆ … ┆ Waiting to  ┆ false ┆ 6.1        ┆ 34         │\n",
       "│       ┆             ┆          ┆ 'name':     ┆   ┆ Exhale      ┆       ┆            ┆            │\n",
       "│       ┆             ┆          ┆ 'Comedy'},  ┆   ┆             ┆       ┆            ┆            │\n",
       "│       ┆             ┆          ┆ {…          ┆   ┆             ┆       ┆            ┆            │\n",
       "│ False ┆ {'id':      ┆ 0        ┆ [{'id': 35, ┆ … ┆ Father of   ┆ false ┆ 5.7        ┆ 173        │\n",
       "│       ┆ 96871,      ┆          ┆ 'name':     ┆   ┆ the Bride   ┆       ┆            ┆            │\n",
       "│       ┆ 'name':     ┆          ┆ 'Comedy'}]  ┆   ┆ Part II     ┆       ┆            ┆            │\n",
       "│       ┆ 'Father of… ┆          ┆             ┆   ┆             ┆       ┆            ┆            │\n",
       "└───────┴─────────────┴──────────┴─────────────┴───┴─────────────┴───────┴────────────┴────────────┘"
      ]
     },
     "execution_count": 18,
     "metadata": {},
     "output_type": "execute_result"
    }
   ],
   "source": [
    "metadata_pl.head()"
   ]
  },
  {
   "cell_type": "code",
   "execution_count": 19,
   "metadata": {},
   "outputs": [
    {
     "data": {
      "text/plain": [
       "{'adult': Utf8,\n",
       " 'belongs_to_collection': Utf8,\n",
       " 'budget': Utf8,\n",
       " 'genres': Utf8,\n",
       " 'homepage': Utf8,\n",
       " 'id': Utf8,\n",
       " 'imdb_id': Utf8,\n",
       " 'original_language': Utf8,\n",
       " 'original_title': Utf8,\n",
       " 'overview': Utf8,\n",
       " 'popularity': Utf8,\n",
       " 'poster_path': Utf8,\n",
       " 'production_companies': Utf8,\n",
       " 'production_countries': Utf8,\n",
       " 'release_date': Utf8,\n",
       " 'revenue': Int64,\n",
       " 'runtime': Float64,\n",
       " 'spoken_languages': Utf8,\n",
       " 'status': Utf8,\n",
       " 'tagline': Utf8,\n",
       " 'title': Utf8,\n",
       " 'video': Boolean,\n",
       " 'vote_average': Float64,\n",
       " 'vote_count': Int64}"
      ]
     },
     "execution_count": 19,
     "metadata": {},
     "output_type": "execute_result"
    }
   ],
   "source": [
    "metadata_pl.schema"
   ]
  },
  {
   "cell_type": "code",
   "execution_count": 20,
   "metadata": {},
   "outputs": [
    {
     "name": "stdout",
     "output_type": "stream",
     "text": [
      "230 ms ± 28.6 ms per loop (mean ± std. dev. of 7 runs, 1 loop each)\n"
     ]
    }
   ],
   "source": [
    "%%timeit\n",
    "ratings_pl = pl.read_csv(\"data/ratings.csv\")"
   ]
  },
  {
   "cell_type": "code",
   "execution_count": 21,
   "metadata": {},
   "outputs": [],
   "source": [
    "ratings_pl = pl.read_csv(\"data/ratings.csv\")"
   ]
  },
  {
   "cell_type": "code",
   "execution_count": 22,
   "metadata": {},
   "outputs": [
    {
     "data": {
      "text/plain": [
       "{'userId': Int64, 'movieId': Int64, 'rating': Float64, 'timestamp': Int64}"
      ]
     },
     "execution_count": 22,
     "metadata": {},
     "output_type": "execute_result"
    }
   ],
   "source": [
    "ratings_pl.schema"
   ]
  },
  {
   "cell_type": "code",
   "execution_count": 23,
   "metadata": {},
   "outputs": [
    {
     "name": "stdout",
     "output_type": "stream",
     "text": [
      "1.92 ms ± 7.03 μs per loop (mean ± std. dev. of 7 runs, 1,000 loops each)\n"
     ]
    }
   ],
   "source": [
    "%%timeit\n",
    "\n",
    "metadata_pd.groupby(\"original_language\")[[\"revenue\", \"runtime\", \"vote_average\"]].mean().sort_values([\"revenue\"], ascending=False)"
   ]
  },
  {
   "cell_type": "code",
   "execution_count": 24,
   "metadata": {},
   "outputs": [
    {
     "data": {
      "text/html": [
       "<div>\n",
       "<style scoped>\n",
       "    .dataframe tbody tr th:only-of-type {\n",
       "        vertical-align: middle;\n",
       "    }\n",
       "\n",
       "    .dataframe tbody tr th {\n",
       "        vertical-align: top;\n",
       "    }\n",
       "\n",
       "    .dataframe thead th {\n",
       "        text-align: right;\n",
       "    }\n",
       "</style>\n",
       "<table border=\"1\" class=\"dataframe\">\n",
       "  <thead>\n",
       "    <tr style=\"text-align: right;\">\n",
       "      <th></th>\n",
       "      <th>revenue</th>\n",
       "      <th>runtime</th>\n",
       "      <th>vote_average</th>\n",
       "    </tr>\n",
       "    <tr>\n",
       "      <th>original_language</th>\n",
       "      <th></th>\n",
       "      <th></th>\n",
       "      <th></th>\n",
       "    </tr>\n",
       "  </thead>\n",
       "  <tbody>\n",
       "    <tr>\n",
       "      <th>en</th>\n",
       "      <td>1.517192e+07</td>\n",
       "      <td>93.138712</td>\n",
       "      <td>5.491171</td>\n",
       "    </tr>\n",
       "    <tr>\n",
       "      <th>te</th>\n",
       "      <td>8.764064e+06</td>\n",
       "      <td>143.844444</td>\n",
       "      <td>6.217778</td>\n",
       "    </tr>\n",
       "    <tr>\n",
       "      <th>zh</th>\n",
       "      <td>8.178148e+06</td>\n",
       "      <td>108.298289</td>\n",
       "      <td>6.366993</td>\n",
       "    </tr>\n",
       "    <tr>\n",
       "      <th>ta</th>\n",
       "      <td>7.224359e+06</td>\n",
       "      <td>149.679487</td>\n",
       "      <td>6.692308</td>\n",
       "    </tr>\n",
       "    <tr>\n",
       "      <th>hi</th>\n",
       "      <td>5.258316e+06</td>\n",
       "      <td>137.401575</td>\n",
       "      <td>5.779134</td>\n",
       "    </tr>\n",
       "    <tr>\n",
       "      <th>...</th>\n",
       "      <td>...</td>\n",
       "      <td>...</td>\n",
       "      <td>...</td>\n",
       "    </tr>\n",
       "    <tr>\n",
       "      <th>wo</th>\n",
       "      <td>0.000000e+00</td>\n",
       "      <td>113.000000</td>\n",
       "      <td>6.520000</td>\n",
       "    </tr>\n",
       "    <tr>\n",
       "      <th>zu</th>\n",
       "      <td>0.000000e+00</td>\n",
       "      <td>96.000000</td>\n",
       "      <td>8.300000</td>\n",
       "    </tr>\n",
       "    <tr>\n",
       "      <th>104.0</th>\n",
       "      <td>NaN</td>\n",
       "      <td>NaN</td>\n",
       "      <td>NaN</td>\n",
       "    </tr>\n",
       "    <tr>\n",
       "      <th>68.0</th>\n",
       "      <td>NaN</td>\n",
       "      <td>NaN</td>\n",
       "      <td>NaN</td>\n",
       "    </tr>\n",
       "    <tr>\n",
       "      <th>82.0</th>\n",
       "      <td>NaN</td>\n",
       "      <td>NaN</td>\n",
       "      <td>NaN</td>\n",
       "    </tr>\n",
       "  </tbody>\n",
       "</table>\n",
       "<p>92 rows × 3 columns</p>\n",
       "</div>"
      ],
      "text/plain": [
       "                        revenue     runtime  vote_average\n",
       "original_language                                        \n",
       "en                 1.517192e+07   93.138712      5.491171\n",
       "te                 8.764064e+06  143.844444      6.217778\n",
       "zh                 8.178148e+06  108.298289      6.366993\n",
       "ta                 7.224359e+06  149.679487      6.692308\n",
       "hi                 5.258316e+06  137.401575      5.779134\n",
       "...                         ...         ...           ...\n",
       "wo                 0.000000e+00  113.000000      6.520000\n",
       "zu                 0.000000e+00   96.000000      8.300000\n",
       "104.0                       NaN         NaN           NaN\n",
       "68.0                        NaN         NaN           NaN\n",
       "82.0                        NaN         NaN           NaN\n",
       "\n",
       "[92 rows x 3 columns]"
      ]
     },
     "execution_count": 24,
     "metadata": {},
     "output_type": "execute_result"
    }
   ],
   "source": [
    "metadata_pd.groupby(\"original_language\")[[\"revenue\", \"runtime\", \"vote_average\"]].mean().sort_values([\"revenue\"], ascending=False)"
   ]
  },
  {
   "cell_type": "code",
   "execution_count": 25,
   "metadata": {},
   "outputs": [
    {
     "name": "stdout",
     "output_type": "stream",
     "text": [
      "231 ms ± 4.53 ms per loop (mean ± std. dev. of 7 runs, 1 loop each)\n"
     ]
    }
   ],
   "source": [
    "%%timeit\n",
    "ratings_pd.groupby(\"userId\")[\"rating\"].mean()"
   ]
  },
  {
   "cell_type": "markdown",
   "metadata": {},
   "source": [
    "Polars recommends `lazy` evaluation, which means that the code is not executed until the results are actually needed. This allows Polars to optimize the execution of the code.\n",
    "After defining the computation, we can use the `collect` method to force the execution of the code and get the results."
   ]
  },
  {
   "cell_type": "code",
   "execution_count": 28,
   "metadata": {},
   "outputs": [
    {
     "name": "stdout",
     "output_type": "stream",
     "text": [
      "9 ms ± 71.5 μs per loop (mean ± std. dev. of 7 runs, 100 loops each)\n"
     ]
    }
   ],
   "source": [
    "%%timeit\n",
    "q = (\n",
    "    metadata_pl.lazy()\n",
    "    .group_by(\"original_language\")\n",
    "    .agg(\n",
    "        pl.mean(\"revenue\").alias(\"avg_revenue\"),\n",
    "        pl.mean(\"runtime\").alias(\"avg_runtime\"),\n",
    "        pl.mean(\"vote_average\").alias(\"avg_vote_average\"),\n",
    "    )\n",
    "    .sort(\"avg_revenue\", descending=True)\n",
    ")\n",
    "q.collect()\n"
   ]
  },
  {
   "cell_type": "code",
   "execution_count": 29,
   "metadata": {},
   "outputs": [
    {
     "name": "stdout",
     "output_type": "stream",
     "text": [
      "shape: (93, 4)\n",
      "┌───────────────────┬─────────────┬─────────────┬──────────────────┐\n",
      "│ original_language ┆ avg_revenue ┆ avg_runtime ┆ avg_vote_average │\n",
      "│ ---               ┆ ---         ┆ ---         ┆ ---              │\n",
      "│ str               ┆ f64         ┆ f64         ┆ f64              │\n",
      "╞═══════════════════╪═════════════╪═════════════╪══════════════════╡\n",
      "│ en                ┆ 1.5172e7    ┆ 93.138712   ┆ 5.491171         │\n",
      "│ te                ┆ 8.7641e6    ┆ 143.844444  ┆ 6.217778         │\n",
      "│ zh                ┆ 8.1781e6    ┆ 108.298289  ┆ 6.366993         │\n",
      "│ ta                ┆ 7.2244e6    ┆ 149.679487  ┆ 6.692308         │\n",
      "│ …                 ┆ …           ┆ …           ┆ …                │\n",
      "│ hr                ┆ 0.0         ┆ 100.482759  ┆ 5.675862         │\n",
      "│ 104.0             ┆ null        ┆ null        ┆ null             │\n",
      "│ 82.0              ┆ null        ┆ null        ┆ null             │\n",
      "│ 68.0              ┆ null        ┆ null        ┆ null             │\n",
      "└───────────────────┴─────────────┴─────────────┴──────────────────┘\n"
     ]
    }
   ],
   "source": [
    "q = (\n",
    "    metadata_pl.lazy()\n",
    "    .group_by(\"original_language\")\n",
    "    .agg(\n",
    "        pl.mean(\"revenue\").alias(\"avg_revenue\"),\n",
    "        pl.mean(\"runtime\").alias(\"avg_runtime\"),\n",
    "        pl.mean(\"vote_average\").alias(\"avg_vote_average\"),\n",
    "    )\n",
    "    .sort(\"avg_revenue\", descending=True)\n",
    ")\n",
    "result = q.collect()\n",
    "print(result)"
   ]
  },
  {
   "cell_type": "markdown",
   "metadata": {},
   "source": [
    "If we do not use the `lazy` evaluation, the code will be executed immediately."
   ]
  },
  {
   "cell_type": "code",
   "execution_count": 30,
   "metadata": {},
   "outputs": [
    {
     "name": "stdout",
     "output_type": "stream",
     "text": [
      "8.98 ms ± 66.7 μs per loop (mean ± std. dev. of 7 runs, 100 loops each)\n"
     ]
    }
   ],
   "source": [
    "%%timeit\n",
    "result = (\n",
    "    metadata_pl\n",
    "    .group_by(\"original_language\")\n",
    "    .agg(\n",
    "        pl.mean(\"revenue\").alias(\"avg_revenue\"),\n",
    "        pl.mean(\"runtime\").alias(\"avg_runtime\"),\n",
    "        pl.mean(\"vote_average\").alias(\"avg_vote_average\"),\n",
    "    )\n",
    "    .sort(\"avg_revenue\", descending=True)\n",
    ")\n"
   ]
  },
  {
   "cell_type": "code",
   "execution_count": 32,
   "metadata": {},
   "outputs": [
    {
     "name": "stdout",
     "output_type": "stream",
     "text": [
      "54 ms ± 913 μs per loop (mean ± std. dev. of 7 runs, 10 loops each)\n"
     ]
    }
   ],
   "source": [
    "%%timeit\n",
    "q = ratings_pl.lazy().group_by(\"userId\").agg(pl.mean(\"rating\").alias(\"avg_rating\"))\n",
    "result = q.collect()"
   ]
  },
  {
   "cell_type": "markdown",
   "metadata": {},
   "source": [
    "> 1. Find the movie with the highest average rating for both `ratings_pd` and `ratings_pl` (using lazy evaluation)\n",
    "> 2. Time(it) and compare both approaches\n",
    "> 3. Find the movie with the highest and lowest average rating but only with at least 30 counts for both `ratings_pd` and `ratings_pl`\n",
    "> 4. Count how many times each user has rated"
   ]
  },
  {
   "cell_type": "code",
   "execution_count": 33,
   "metadata": {},
   "outputs": [
    {
     "data": {
      "text/plain": [
       "userId\n",
       "4         3.500000\n",
       "7         3.367925\n",
       "8         2.991150\n",
       "9         3.851190\n",
       "11        3.211454\n",
       "            ...   \n",
       "270891    4.095238\n",
       "270892    3.640000\n",
       "270893    3.673684\n",
       "270894    2.516892\n",
       "270896    3.980769\n",
       "Name: rating, Length: 136362, dtype: float64"
      ]
     },
     "execution_count": 33,
     "metadata": {},
     "output_type": "execute_result"
    }
   ],
   "source": [
    "ratings_pd.groupby(\"userId\").rating.mean()[ratings_pd.groupby(\"userId\").size() >= 30]"
   ]
  },
  {
   "cell_type": "code",
   "execution_count": 34,
   "metadata": {},
   "outputs": [
    {
     "data": {
      "text/html": [
       "<div><style>\n",
       ".dataframe > thead > tr > th,\n",
       ".dataframe > tbody > tr > td {\n",
       "  text-align: right;\n",
       "  white-space: pre-wrap;\n",
       "}\n",
       "</style>\n",
       "<small>shape: (134_092, 3)</small><table border=\"1\" class=\"dataframe\"><thead><tr><th>userId</th><th>avg_rating</th><th>count</th></tr><tr><td>i64</td><td>f64</td><td>u32</td></tr></thead><tbody><tr><td>4</td><td>3.5</td><td>62</td></tr><tr><td>7</td><td>3.367925</td><td>53</td></tr><tr><td>8</td><td>2.99115</td><td>113</td></tr><tr><td>9</td><td>3.85119</td><td>84</td></tr><tr><td>11</td><td>3.211454</td><td>227</td></tr><tr><td>12</td><td>3.854839</td><td>248</td></tr><tr><td>15</td><td>3.736726</td><td>226</td></tr><tr><td>16</td><td>4.417582</td><td>182</td></tr><tr><td>20</td><td>3.846296</td><td>270</td></tr><tr><td>21</td><td>4.5625</td><td>32</td></tr><tr><td>22</td><td>2.763158</td><td>38</td></tr><tr><td>24</td><td>3.474763</td><td>634</td></tr><tr><td>&hellip;</td><td>&hellip;</td><td>&hellip;</td></tr><tr><td>270877</td><td>3.720588</td><td>68</td></tr><tr><td>270879</td><td>2.785714</td><td>413</td></tr><tr><td>270881</td><td>3.261364</td><td>44</td></tr><tr><td>270884</td><td>3.893939</td><td>33</td></tr><tr><td>270885</td><td>4.151007</td><td>149</td></tr><tr><td>270886</td><td>3.34375</td><td>32</td></tr><tr><td>270887</td><td>3.644142</td><td>2501</td></tr><tr><td>270891</td><td>4.095238</td><td>42</td></tr><tr><td>270892</td><td>3.64</td><td>75</td></tr><tr><td>270893</td><td>3.673684</td><td>190</td></tr><tr><td>270894</td><td>2.516892</td><td>148</td></tr><tr><td>270896</td><td>3.980769</td><td>260</td></tr></tbody></table></div>"
      ],
      "text/plain": [
       "shape: (134_092, 3)\n",
       "┌────────┬────────────┬───────┐\n",
       "│ userId ┆ avg_rating ┆ count │\n",
       "│ ---    ┆ ---        ┆ ---   │\n",
       "│ i64    ┆ f64        ┆ u32   │\n",
       "╞════════╪════════════╪═══════╡\n",
       "│ 4      ┆ 3.5        ┆ 62    │\n",
       "│ 7      ┆ 3.367925   ┆ 53    │\n",
       "│ 8      ┆ 2.99115    ┆ 113   │\n",
       "│ 9      ┆ 3.85119    ┆ 84    │\n",
       "│ …      ┆ …          ┆ …     │\n",
       "│ 270892 ┆ 3.64       ┆ 75    │\n",
       "│ 270893 ┆ 3.673684   ┆ 190   │\n",
       "│ 270894 ┆ 2.516892   ┆ 148   │\n",
       "│ 270896 ┆ 3.980769   ┆ 260   │\n",
       "└────────┴────────────┴───────┘"
      ]
     },
     "execution_count": 34,
     "metadata": {},
     "output_type": "execute_result"
    }
   ],
   "source": [
    "ratings_pl.group_by(\"userId\").agg(\n",
    "    pl.mean(\"rating\").alias(\"avg_rating\"),\n",
    "    pl.count(\"rating\").alias(\"count\"),\n",
    ").filter(pl.col(\"count\") > 30).sort(\"userId\")"
   ]
  },
  {
   "cell_type": "code",
   "execution_count": 35,
   "metadata": {},
   "outputs": [
    {
     "data": {
      "text/plain": [
       "userId\n",
       "45811     18276\n",
       "8659       9279\n",
       "270123     7638\n",
       "179792     7515\n",
       "228291     7410\n",
       "          ...  \n",
       "141473        1\n",
       "196897        1\n",
       "111231        1\n",
       "193655        1\n",
       "193683        1\n",
       "Name: count, Length: 270896, dtype: int64"
      ]
     },
     "execution_count": 35,
     "metadata": {},
     "output_type": "execute_result"
    }
   ],
   "source": [
    "ratings_pd.userId.value_counts()"
   ]
  },
  {
   "cell_type": "code",
   "execution_count": 36,
   "metadata": {},
   "outputs": [
    {
     "data": {
      "text/html": [
       "<div><style>\n",
       ".dataframe > thead > tr > th,\n",
       ".dataframe > tbody > tr > td {\n",
       "  text-align: right;\n",
       "  white-space: pre-wrap;\n",
       "}\n",
       "</style>\n",
       "<small>shape: (270_896, 2)</small><table border=\"1\" class=\"dataframe\"><thead><tr><th>userId</th><th>counts</th></tr><tr><td>i64</td><td>u32</td></tr></thead><tbody><tr><td>45811</td><td>18276</td></tr><tr><td>8659</td><td>9279</td></tr><tr><td>270123</td><td>7638</td></tr><tr><td>179792</td><td>7515</td></tr><tr><td>228291</td><td>7410</td></tr><tr><td>243443</td><td>6320</td></tr><tr><td>98415</td><td>6094</td></tr><tr><td>229879</td><td>6024</td></tr><tr><td>98787</td><td>5814</td></tr><tr><td>172224</td><td>5701</td></tr><tr><td>230417</td><td>5619</td></tr><tr><td>70648</td><td>5356</td></tr><tr><td>&hellip;</td><td>&hellip;</td></tr><tr><td>270384</td><td>1</td></tr><tr><td>270520</td><td>1</td></tr><tr><td>270600</td><td>1</td></tr><tr><td>270618</td><td>1</td></tr><tr><td>270717</td><td>1</td></tr><tr><td>270767</td><td>1</td></tr><tr><td>270772</td><td>1</td></tr><tr><td>270778</td><td>1</td></tr><tr><td>270783</td><td>1</td></tr><tr><td>270826</td><td>1</td></tr><tr><td>270853</td><td>1</td></tr><tr><td>270862</td><td>1</td></tr></tbody></table></div>"
      ],
      "text/plain": [
       "shape: (270_896, 2)\n",
       "┌────────┬────────┐\n",
       "│ userId ┆ counts │\n",
       "│ ---    ┆ ---    │\n",
       "│ i64    ┆ u32    │\n",
       "╞════════╪════════╡\n",
       "│ 45811  ┆ 18276  │\n",
       "│ 8659   ┆ 9279   │\n",
       "│ 270123 ┆ 7638   │\n",
       "│ 179792 ┆ 7515   │\n",
       "│ …      ┆ …      │\n",
       "│ 270783 ┆ 1      │\n",
       "│ 270826 ┆ 1      │\n",
       "│ 270853 ┆ 1      │\n",
       "│ 270862 ┆ 1      │\n",
       "└────────┴────────┘"
      ]
     },
     "execution_count": 36,
     "metadata": {},
     "output_type": "execute_result"
    }
   ],
   "source": [
    "ratings_pl.select(pl.col(\"userId\").value_counts(sort=True)).unnest(\"userId\")"
   ]
  },
  {
   "cell_type": "code",
   "execution_count": 37,
   "metadata": {},
   "outputs": [],
   "source": [
    "avg_ratings_pd = ratings_pd.groupby(\"movieId\").rating.mean().reset_index()"
   ]
  },
  {
   "cell_type": "code",
   "execution_count": 38,
   "metadata": {},
   "outputs": [],
   "source": [
    "avg_ratings_pd[\"movieId\"] = avg_ratings_pd.movieId.astype(\"str\")"
   ]
  },
  {
   "cell_type": "code",
   "execution_count": 39,
   "metadata": {},
   "outputs": [
    {
     "name": "stdout",
     "output_type": "stream",
     "text": [
      "11.3 ms ± 138 μs per loop (mean ± std. dev. of 7 runs, 100 loops each)\n"
     ]
    }
   ],
   "source": [
    "%%timeit\n",
    "pd.merge(metadata_pd, avg_ratings_pd, left_on=\"id\", right_on=\"movieId\")"
   ]
  },
  {
   "cell_type": "code",
   "execution_count": 40,
   "metadata": {},
   "outputs": [],
   "source": [
    "avg_ratings_pl = ratings_pl.group_by(\"movieId\").agg(pl.mean(\"rating\").alias(\"avg_rating\"))\n",
    "avg_ratings_pl = avg_ratings_pl.select(pl.col(\"movieId\").cast(pl.Utf8), pl.col(\"avg_rating\"))"
   ]
  },
  {
   "cell_type": "code",
   "execution_count": 41,
   "metadata": {},
   "outputs": [
    {
     "name": "stdout",
     "output_type": "stream",
     "text": [
      "7.19 ms ± 78.6 μs per loop (mean ± std. dev. of 7 runs, 100 loops each)\n"
     ]
    }
   ],
   "source": [
    "%%timeit\n",
    "metadata_pl.join(avg_ratings_pl, left_on=\"id\", right_on=\"movieId\")"
   ]
  },
  {
   "cell_type": "markdown",
   "metadata": {},
   "source": [
    "## Hands-on with Polars Out of Core Processing\n",
    "\n",
    "The dataset we will be using is the [NYC Taxi Trip Data](https://www.kaggle.com/datasets/neilclack/nyc-taxi-trip-data-google-public-data?select=taxi_trip_data.csv). It contains data on yellow taxi cab trips in New York City. The dataset is about 1.5GB in size, which might be too large to fit in memory (depending on your RAM).\n",
    "\n",
    "> Read the data dictionary and try to understand the meaning of each column. \n",
    "\n",
    "Let's download the file from GCS and store them in the `data` folder."
   ]
  },
  {
   "cell_type": "code",
   "execution_count": 42,
   "metadata": {},
   "outputs": [],
   "source": [
    "gcs_bucket_url = \"https://storage.googleapis.com/su-artifacts/\"\n",
    "full_url = gcs_bucket_url + 'taxi_trip_data.csv'\n",
    "r = requests.get(full_url)\n",
    "with open(\"data/\" + 'taxi_trip_data.csv', \"wb\") as f:\n",
    "    f.write(r.content)"
   ]
  },
  {
   "cell_type": "markdown",
   "metadata": {},
   "source": [
    "> Check out the file size in your file system."
   ]
  },
  {
   "cell_type": "markdown",
   "metadata": {},
   "source": [
    "First, we do a read of only `100,000` rows of the file to find out the _dtypes and initial rows_."
   ]
  },
  {
   "cell_type": "code",
   "execution_count": 43,
   "metadata": {},
   "outputs": [
    {
     "data": {
      "text/plain": [
       "{'vendor_id': Int64,\n",
       " 'pickup_datetime': Utf8,\n",
       " 'dropoff_datetime': Utf8,\n",
       " 'passenger_count': Int64,\n",
       " 'trip_distance': Float64,\n",
       " 'rate_code': Int64,\n",
       " 'store_and_fwd_flag': Utf8,\n",
       " 'payment_type': Int64,\n",
       " 'fare_amount': Float64,\n",
       " 'extra': Float64,\n",
       " 'mta_tax': Float64,\n",
       " 'tip_amount': Float64,\n",
       " 'tolls_amount': Float64,\n",
       " 'imp_surcharge': Float64,\n",
       " 'total_amount': Float64,\n",
       " 'pickup_location_id': Int64,\n",
       " 'dropoff_location_id': Int64}"
      ]
     },
     "execution_count": 43,
     "metadata": {},
     "output_type": "execute_result"
    }
   ],
   "source": [
    "df = pl.read_csv('data/taxi_trip_data.csv', n_rows=100000)\n",
    "\n",
    "df.schema"
   ]
  },
  {
   "cell_type": "code",
   "execution_count": 44,
   "metadata": {},
   "outputs": [
    {
     "data": {
      "text/html": [
       "<div><style>\n",
       ".dataframe > thead > tr > th,\n",
       ".dataframe > tbody > tr > td {\n",
       "  text-align: right;\n",
       "  white-space: pre-wrap;\n",
       "}\n",
       "</style>\n",
       "<small>shape: (5, 17)</small><table border=\"1\" class=\"dataframe\"><thead><tr><th>vendor_id</th><th>pickup_datetime</th><th>dropoff_datetime</th><th>passenger_count</th><th>trip_distance</th><th>rate_code</th><th>store_and_fwd_flag</th><th>payment_type</th><th>fare_amount</th><th>extra</th><th>mta_tax</th><th>tip_amount</th><th>tolls_amount</th><th>imp_surcharge</th><th>total_amount</th><th>pickup_location_id</th><th>dropoff_location_id</th></tr><tr><td>i64</td><td>str</td><td>str</td><td>i64</td><td>f64</td><td>i64</td><td>str</td><td>i64</td><td>f64</td><td>f64</td><td>f64</td><td>f64</td><td>f64</td><td>f64</td><td>f64</td><td>i64</td><td>i64</td></tr></thead><tbody><tr><td>2</td><td>&quot;2018-03-29 13:…</td><td>&quot;2018-03-29 14:…</td><td>1</td><td>18.15</td><td>3</td><td>&quot;N&quot;</td><td>1</td><td>70.0</td><td>0.0</td><td>0.0</td><td>16.16</td><td>10.5</td><td>0.3</td><td>96.96</td><td>161</td><td>1</td></tr><tr><td>2</td><td>&quot;2018-03-29 13:…</td><td>&quot;2018-03-29 14:…</td><td>1</td><td>4.59</td><td>1</td><td>&quot;N&quot;</td><td>1</td><td>25.0</td><td>0.0</td><td>0.5</td><td>5.16</td><td>0.0</td><td>0.3</td><td>30.96</td><td>13</td><td>230</td></tr><tr><td>2</td><td>&quot;2018-03-29 13:…</td><td>&quot;2018-03-29 13:…</td><td>1</td><td>0.3</td><td>1</td><td>&quot;N&quot;</td><td>1</td><td>3.0</td><td>0.0</td><td>0.5</td><td>0.76</td><td>0.0</td><td>0.3</td><td>4.56</td><td>231</td><td>231</td></tr><tr><td>2</td><td>&quot;2018-03-29 13:…</td><td>&quot;2018-03-29 14:…</td><td>2</td><td>16.97</td><td>1</td><td>&quot;N&quot;</td><td>1</td><td>49.5</td><td>0.0</td><td>0.5</td><td>5.61</td><td>5.76</td><td>0.3</td><td>61.67</td><td>231</td><td>138</td></tr><tr><td>2</td><td>&quot;2018-03-29 14:…</td><td>&quot;2018-03-29 15:…</td><td>5</td><td>14.45</td><td>1</td><td>&quot;N&quot;</td><td>1</td><td>45.5</td><td>0.0</td><td>0.5</td><td>10.41</td><td>5.76</td><td>0.3</td><td>62.47</td><td>87</td><td>138</td></tr></tbody></table></div>"
      ],
      "text/plain": [
       "shape: (5, 17)\n",
       "┌───────────┬───────────┬───────────┬───────────┬───┬───────────┬───────────┬───────────┬──────────┐\n",
       "│ vendor_id ┆ pickup_da ┆ dropoff_d ┆ passenger ┆ … ┆ imp_surch ┆ total_amo ┆ pickup_lo ┆ dropoff_ │\n",
       "│ ---       ┆ tetime    ┆ atetime   ┆ _count    ┆   ┆ arge      ┆ unt       ┆ cation_id ┆ location │\n",
       "│ i64       ┆ ---       ┆ ---       ┆ ---       ┆   ┆ ---       ┆ ---       ┆ ---       ┆ _id      │\n",
       "│           ┆ str       ┆ str       ┆ i64       ┆   ┆ f64       ┆ f64       ┆ i64       ┆ ---      │\n",
       "│           ┆           ┆           ┆           ┆   ┆           ┆           ┆           ┆ i64      │\n",
       "╞═══════════╪═══════════╪═══════════╪═══════════╪═══╪═══════════╪═══════════╪═══════════╪══════════╡\n",
       "│ 2         ┆ 2018-03-2 ┆ 2018-03-2 ┆ 1         ┆ … ┆ 0.3       ┆ 96.96     ┆ 161       ┆ 1        │\n",
       "│           ┆ 9         ┆ 9         ┆           ┆   ┆           ┆           ┆           ┆          │\n",
       "│           ┆ 13:37:13  ┆ 14:17:01  ┆           ┆   ┆           ┆           ┆           ┆          │\n",
       "│ 2         ┆ 2018-03-2 ┆ 2018-03-2 ┆ 1         ┆ … ┆ 0.3       ┆ 30.96     ┆ 13        ┆ 230      │\n",
       "│           ┆ 9         ┆ 9         ┆           ┆   ┆           ┆           ┆           ┆          │\n",
       "│           ┆ 13:37:18  ┆ 14:15:33  ┆           ┆   ┆           ┆           ┆           ┆          │\n",
       "│ 2         ┆ 2018-03-2 ┆ 2018-03-2 ┆ 1         ┆ … ┆ 0.3       ┆ 4.56      ┆ 231       ┆ 231      │\n",
       "│           ┆ 9         ┆ 9         ┆           ┆   ┆           ┆           ┆           ┆          │\n",
       "│           ┆ 13:26:57  ┆ 13:28:03  ┆           ┆   ┆           ┆           ┆           ┆          │\n",
       "│ 2         ┆ 2018-03-2 ┆ 2018-03-2 ┆ 2         ┆ … ┆ 0.3       ┆ 61.67     ┆ 231       ┆ 138      │\n",
       "│           ┆ 9         ┆ 9         ┆           ┆   ┆           ┆           ┆           ┆          │\n",
       "│           ┆ 13:07:48  ┆ 14:03:05  ┆           ┆   ┆           ┆           ┆           ┆          │\n",
       "│ 2         ┆ 2018-03-2 ┆ 2018-03-2 ┆ 5         ┆ … ┆ 0.3       ┆ 62.47     ┆ 87        ┆ 138      │\n",
       "│           ┆ 9         ┆ 9         ┆           ┆   ┆           ┆           ┆           ┆          │\n",
       "│           ┆ 14:19:11  ┆ 15:19:59  ┆           ┆   ┆           ┆           ┆           ┆          │\n",
       "└───────────┴───────────┴───────────┴───────────┴───┴───────────┴───────────┴───────────┴──────────┘"
      ]
     },
     "execution_count": 44,
     "metadata": {},
     "output_type": "execute_result"
    }
   ],
   "source": [
    "df.head()"
   ]
  },
  {
   "cell_type": "markdown",
   "metadata": {},
   "source": [
    "In order to process the data out-of-core, we can use the _streaming API_ of Polars. It allows queries to be executed in a streaming manner on top of the lazy API (execution) we have used.\n",
    "\n",
    "We will combine that with lazy reading of the file using `scan_csv`. It has the same function signature as `read_csv`, but returns a lazy representation of the data, which means that the data is not loaded into memory until it is needed."
   ]
  },
  {
   "cell_type": "code",
   "execution_count": 60,
   "metadata": {},
   "outputs": [
    {
     "data": {
      "text/html": [
       "<div><style>\n",
       ".dataframe > thead > tr > th,\n",
       ".dataframe > tbody > tr > td {\n",
       "  text-align: right;\n",
       "  white-space: pre-wrap;\n",
       "}\n",
       "</style>\n",
       "<small>shape: (1, 4)</small><table border=\"1\" class=\"dataframe\"><thead><tr><th>min_pickup_datetime</th><th>max_pickup_datetime</th><th>min_dropoff_datetime</th><th>max_dropoff_datetime</th></tr><tr><td>datetime[μs]</td><td>datetime[μs]</td><td>datetime[μs]</td><td>datetime[μs]</td></tr></thead><tbody><tr><td>2001-01-01 00:07:04</td><td>2053-07-11 13:25:33</td><td>2001-01-01 00:07:30</td><td>2053-07-11 13:25:33</td></tr></tbody></table></div>"
      ],
      "text/plain": [
       "shape: (1, 4)\n",
       "┌─────────────────────┬─────────────────────┬──────────────────────┬──────────────────────┐\n",
       "│ min_pickup_datetime ┆ max_pickup_datetime ┆ min_dropoff_datetime ┆ max_dropoff_datetime │\n",
       "│ ---                 ┆ ---                 ┆ ---                  ┆ ---                  │\n",
       "│ datetime[μs]        ┆ datetime[μs]        ┆ datetime[μs]         ┆ datetime[μs]         │\n",
       "╞═════════════════════╪═════════════════════╪══════════════════════╪══════════════════════╡\n",
       "│ 2001-01-01 00:07:04 ┆ 2053-07-11 13:25:33 ┆ 2001-01-01 00:07:30  ┆ 2053-07-11 13:25:33  │\n",
       "└─────────────────────┴─────────────────────┴──────────────────────┴──────────────────────┘"
      ]
     },
     "execution_count": 60,
     "metadata": {},
     "output_type": "execute_result"
    }
   ],
   "source": [
    "q = (\n",
    "    pl.scan_csv('data/taxi_trip_data.csv', try_parse_dates=True)\n",
    "    .select(\n",
    "        pl.col(\"pickup_datetime\").min().alias(\"min_pickup_datetime\"),\n",
    "        pl.col(\"pickup_datetime\").max().alias(\"max_pickup_datetime\"),\n",
    "        pl.col(\"dropoff_datetime\").min().alias(\"min_dropoff_datetime\"),\n",
    "        pl.col(\"dropoff_datetime\").max().alias(\"max_dropoff_datetime\"),\n",
    "    )\n",
    ")\n",
    "q.collect(streaming=True)"
   ]
  },
  {
   "cell_type": "code",
   "execution_count": 46,
   "metadata": {},
   "outputs": [
    {
     "name": "stdout",
     "output_type": "stream",
     "text": [
      "shape: (9, 2)\n",
      "┌────────────┬───────────────────┐\n",
      "│ describe   ┆ trip_duration     │\n",
      "│ ---        ┆ ---               │\n",
      "│ str        ┆ str               │\n",
      "╞════════════╪═══════════════════╡\n",
      "│ count      ┆ 10000000          │\n",
      "│ null_count ┆ 0                 │\n",
      "│ mean       ┆ 0:35:47.026444    │\n",
      "│ std        ┆ null              │\n",
      "│ min        ┆ -49 days, 1:54:52 │\n",
      "│ 25%        ┆ 0:22:42           │\n",
      "│ 50%        ┆ 0:30:07           │\n",
      "│ 75%        ┆ 0:38:45           │\n",
      "│ max        ┆ 6 days, 18:10:05  │\n",
      "└────────────┴───────────────────┘\n"
     ]
    }
   ],
   "source": [
    "q = (\n",
    "    pl.scan_csv('data/taxi_trip_data.csv', try_parse_dates=True)\n",
    "    .select(\n",
    "        (pl.col(\"dropoff_datetime\") - pl.col(\"pickup_datetime\")).alias(\"trip_duration\")\n",
    "    )\n",
    ")\n",
    "print(q.collect(streaming=True).describe())"
   ]
  },
  {
   "cell_type": "code",
   "execution_count": 47,
   "metadata": {},
   "outputs": [
    {
     "data": {
      "text/html": [
       "<div><style>\n",
       ".dataframe > thead > tr > th,\n",
       ".dataframe > tbody > tr > td {\n",
       "  text-align: right;\n",
       "  white-space: pre-wrap;\n",
       "}\n",
       "</style>\n",
       "<small>shape: (10, 2)</small><table border=\"1\" class=\"dataframe\"><thead><tr><th>passenger_count</th><th>avg_trip_distance</th></tr><tr><td>i64</td><td>f64</td></tr></thead><tbody><tr><td>0</td><td>8.396401</td></tr><tr><td>5</td><td>9.056677</td></tr><tr><td>4</td><td>8.969551</td></tr><tr><td>3</td><td>9.007313</td></tr><tr><td>9</td><td>7.1225</td></tr><tr><td>7</td><td>3.542609</td></tr><tr><td>2</td><td>9.027067</td></tr><tr><td>8</td><td>6.4184</td></tr><tr><td>6</td><td>9.040133</td></tr><tr><td>1</td><td>8.783874</td></tr></tbody></table></div>"
      ],
      "text/plain": [
       "shape: (10, 2)\n",
       "┌─────────────────┬───────────────────┐\n",
       "│ passenger_count ┆ avg_trip_distance │\n",
       "│ ---             ┆ ---               │\n",
       "│ i64             ┆ f64               │\n",
       "╞═════════════════╪═══════════════════╡\n",
       "│ 0               ┆ 8.396401          │\n",
       "│ 5               ┆ 9.056677          │\n",
       "│ 4               ┆ 8.969551          │\n",
       "│ 3               ┆ 9.007313          │\n",
       "│ …               ┆ …                 │\n",
       "│ 2               ┆ 9.027067          │\n",
       "│ 8               ┆ 6.4184            │\n",
       "│ 6               ┆ 9.040133          │\n",
       "│ 1               ┆ 8.783874          │\n",
       "└─────────────────┴───────────────────┘"
      ]
     },
     "execution_count": 47,
     "metadata": {},
     "output_type": "execute_result"
    }
   ],
   "source": [
    "q = (\n",
    "    pl.scan_csv('data/taxi_trip_data.csv', try_parse_dates=True)\n",
    "    .group_by(\"passenger_count\")\n",
    "    .agg(pl.mean(\"trip_distance\").alias(\"avg_trip_distance\"))\n",
    ")\n",
    "df_pl = q.collect(streaming=True)\n",
    "df_pl"
   ]
  },
  {
   "cell_type": "code",
   "execution_count": 48,
   "metadata": {},
   "outputs": [
    {
     "data": {
      "text/html": [
       "<div><style>\n",
       ".dataframe > thead > tr > th,\n",
       ".dataframe > tbody > tr > td {\n",
       "  text-align: right;\n",
       "  white-space: pre-wrap;\n",
       "}\n",
       "</style>\n",
       "<small>shape: (10, 2)</small><table border=\"1\" class=\"dataframe\"><thead><tr><th>passenger_count</th><th>avg_trip_distance</th></tr><tr><td>i64</td><td>f64</td></tr></thead><tbody><tr><td>0</td><td>8.396401</td></tr><tr><td>1</td><td>8.783874</td></tr><tr><td>2</td><td>9.027067</td></tr><tr><td>3</td><td>9.007313</td></tr><tr><td>4</td><td>8.969551</td></tr><tr><td>5</td><td>9.056677</td></tr><tr><td>6</td><td>9.040133</td></tr><tr><td>7</td><td>3.542609</td></tr><tr><td>8</td><td>6.4184</td></tr><tr><td>9</td><td>7.1225</td></tr></tbody></table></div>"
      ],
      "text/plain": [
       "shape: (10, 2)\n",
       "┌─────────────────┬───────────────────┐\n",
       "│ passenger_count ┆ avg_trip_distance │\n",
       "│ ---             ┆ ---               │\n",
       "│ i64             ┆ f64               │\n",
       "╞═════════════════╪═══════════════════╡\n",
       "│ 0               ┆ 8.396401          │\n",
       "│ 1               ┆ 8.783874          │\n",
       "│ 2               ┆ 9.027067          │\n",
       "│ 3               ┆ 9.007313          │\n",
       "│ …               ┆ …                 │\n",
       "│ 6               ┆ 9.040133          │\n",
       "│ 7               ┆ 3.542609          │\n",
       "│ 8               ┆ 6.4184            │\n",
       "│ 9               ┆ 7.1225            │\n",
       "└─────────────────┴───────────────────┘"
      ]
     },
     "execution_count": 48,
     "metadata": {},
     "output_type": "execute_result"
    }
   ],
   "source": [
    "df_pl.sort(\"passenger_count\")"
   ]
  },
  {
   "cell_type": "markdown",
   "metadata": {},
   "source": [
    "We can use the rest of the libraries in Python data ecosystem to process the data by converting to `pandas` dataframe. For example, we can use `seaborn` to plot a bar chart."
   ]
  },
  {
   "cell_type": "code",
   "execution_count": 49,
   "metadata": {},
   "outputs": [
    {
     "data": {
      "text/plain": [
       "<seaborn.axisgrid.FacetGrid at 0x76aca0bea4a0>"
      ]
     },
     "execution_count": 49,
     "metadata": {},
     "output_type": "execute_result"
    },
    {
     "data": {
      "image/png": "[encoded data removed]",
      "text/plain": [
       "<Figure size 511.111x500 with 1 Axes>"
      ]
     },
     "metadata": {},
     "output_type": "display_data"
    }
   ],
   "source": [
    "sns.catplot(data=df_pl.to_pandas(), x=\"passenger_count\", y=\"avg_trip_distance\", kind=\"bar\")"
   ]
  },
  {
   "cell_type": "markdown",
   "metadata": {},
   "source": [
    "> 1. Calculate the speed of each trip (row) in miles per hour. Then `describe` the summary statistics. Note: casting the duration to `Int64` will convert it to microseconds.\n",
    "> 2. Calculate the average total amount by payment type.\n",
    "> 3. Calculate the average total amount by payment type and passenger count.\n",
    "> 4. Calculate the average distance rate (fare amount divide by trip distance) by vendor."
   ]
  },
  {
   "cell_type": "code",
   "execution_count": 50,
   "metadata": {},
   "outputs": [
    {
     "name": "stdout",
     "output_type": "stream",
     "text": [
      "shape: (10_000_000, 1)\n",
      "┌───────────────┐\n",
      "│ trip_distance │\n",
      "│ ---           │\n",
      "│ f64           │\n",
      "╞═══════════════╡\n",
      "│ 27.361809     │\n",
      "│ 7.2           │\n",
      "│ 16.363636     │\n",
      "│ 18.417847     │\n",
      "│ …             │\n",
      "│ 9.382905      │\n",
      "│ 13.043255     │\n",
      "│ 12.362684     │\n",
      "│ 7.991964      │\n",
      "└───────────────┘\n"
     ]
    }
   ],
   "source": [
    "q = (\n",
    "    pl.scan_csv('data/taxi_trip_data.csv', try_parse_dates=True)\n",
    "    .select(\n",
    "        pl.col(\"trip_distance\") / ((pl.col(\"dropoff_datetime\") - pl.col(\"pickup_datetime\")).alias(\"trip_duration\").cast(pl.Int64) / 1000000 / 3600)\n",
    "    )\n",
    ")\n",
    "print(q.collect(streaming=True))"
   ]
  },
  {
   "cell_type": "code",
   "execution_count": 51,
   "metadata": {},
   "outputs": [
    {
     "name": "stdout",
     "output_type": "stream",
     "text": [
      "shape: (3, 2)\n",
      "┌───────────┬───────────────────┐\n",
      "│ vendor_id ┆ avg_distance_rate │\n",
      "│ ---       ┆ ---               │\n",
      "│ i64       ┆ f64               │\n",
      "╞═══════════╪═══════════════════╡\n",
      "│ 4         ┆ 77.233665         │\n",
      "│ 2         ┆ 96.937659         │\n",
      "│ 1         ┆ 79.421507         │\n",
      "└───────────┴───────────────────┘\n"
     ]
    }
   ],
   "source": [
    "q = (\n",
    "    pl.scan_csv('data/taxi_trip_data.csv', try_parse_dates=True)\n",
    "    .with_columns(\n",
    "        (pl.col(\"fare_amount\") / (pl.col(\"trip_distance\") + 0.01)).alias(\"distance_rate\"),\n",
    "    )\n",
    "    .group_by(\"vendor_id\").agg(pl.mean(\"distance_rate\").alias(\"avg_distance_rate\"))\n",
    ")\n",
    "print(q.collect(streaming=True))"
   ]
  },
  {
   "cell_type": "markdown",
   "metadata": {},
   "source": [
    "## Hands-on with DuckDB\n",
    "\n",
    "We learnt about DuckDB in Module 1. Then, we used it like a RDMS. However, DuckDB is also an in-memory analytical database. It can be used to perform out-of-core processing on large datasets.\n",
    "\n",
    "We will use the same dataset as in Part 2. Let's load the data into DuckDB."
   ]
  },
  {
   "cell_type": "code",
   "execution_count": 52,
   "metadata": {},
   "outputs": [],
   "source": [
    "import duckdb"
   ]
  },
  {
   "cell_type": "code",
   "execution_count": 53,
   "metadata": {},
   "outputs": [],
   "source": [
    "con = duckdb.connect(database=\"data/unit-2.8.db\")"
   ]
  },
  {
   "cell_type": "markdown",
   "metadata": {},
   "source": [
    "We'll create a table from the csv file."
   ]
  },
  {
   "cell_type": "code",
   "execution_count": 54,
   "metadata": {},
   "outputs": [],
   "source": [
    "con.sql(\"CREATE TABLE taxi_trip_data AS SELECT * FROM read_csv_auto('data/taxi_trip_data.csv', HEADER=TRUE)\")"
   ]
  },
  {
   "cell_type": "markdown",
   "metadata": {},
   "source": [
    "We can start writing SQL queries on the table, let's implement the queries from Part 2."
   ]
  },
  {
   "cell_type": "code",
   "execution_count": 55,
   "metadata": {},
   "outputs": [
    {
     "data": {
      "text/plain": [
       "┌─────────────────────┬─────────────┬─────────┬─────────┬─────────┬─────────┐\n",
       "│     column_name     │ column_type │  null   │   key   │ default │  extra  │\n",
       "│       varchar       │   varchar   │ varchar │ varchar │ varchar │ varchar │\n",
       "├─────────────────────┼─────────────┼─────────┼─────────┼─────────┼─────────┤\n",
       "│ vendor_id           │ BIGINT      │ YES     │ NULL    │ NULL    │ NULL    │\n",
       "│ pickup_datetime     │ TIMESTAMP   │ YES     │ NULL    │ NULL    │ NULL    │\n",
       "│ dropoff_datetime    │ TIMESTAMP   │ YES     │ NULL    │ NULL    │ NULL    │\n",
       "│ passenger_count     │ BIGINT      │ YES     │ NULL    │ NULL    │ NULL    │\n",
       "│ trip_distance       │ DOUBLE      │ YES     │ NULL    │ NULL    │ NULL    │\n",
       "│ rate_code           │ BIGINT      │ YES     │ NULL    │ NULL    │ NULL    │\n",
       "│ store_and_fwd_flag  │ VARCHAR     │ YES     │ NULL    │ NULL    │ NULL    │\n",
       "│ payment_type        │ BIGINT      │ YES     │ NULL    │ NULL    │ NULL    │\n",
       "│ fare_amount         │ DOUBLE      │ YES     │ NULL    │ NULL    │ NULL    │\n",
       "│ extra               │ DOUBLE      │ YES     │ NULL    │ NULL    │ NULL    │\n",
       "│ mta_tax             │ DOUBLE      │ YES     │ NULL    │ NULL    │ NULL    │\n",
       "│ tip_amount          │ DOUBLE      │ YES     │ NULL    │ NULL    │ NULL    │\n",
       "│ tolls_amount        │ DOUBLE      │ YES     │ NULL    │ NULL    │ NULL    │\n",
       "│ imp_surcharge       │ DOUBLE      │ YES     │ NULL    │ NULL    │ NULL    │\n",
       "│ total_amount        │ DOUBLE      │ YES     │ NULL    │ NULL    │ NULL    │\n",
       "│ pickup_location_id  │ BIGINT      │ YES     │ NULL    │ NULL    │ NULL    │\n",
       "│ dropoff_location_id │ BIGINT      │ YES     │ NULL    │ NULL    │ NULL    │\n",
       "├─────────────────────┴─────────────┴─────────┴─────────┴─────────┴─────────┤\n",
       "│ 17 rows                                                         6 columns │\n",
       "└───────────────────────────────────────────────────────────────────────────┘"
      ]
     },
     "execution_count": 55,
     "metadata": {},
     "output_type": "execute_result"
    }
   ],
   "source": [
    "con.sql(\"DESCRIBE SELECT * from taxi_trip_data;\")"
   ]
  },
  {
   "cell_type": "code",
   "execution_count": 56,
   "metadata": {},
   "outputs": [
    {
     "data": {
      "text/plain": [
       "┌─────────────────────┬─────────────────────┬──────────────────────┬──────────────────────┐\n",
       "│ min_pickup_datetime │ max_pickup_datetime │ min_dropoff_datetime │ max_dropoff_datetime │\n",
       "│      timestamp      │      timestamp      │      timestamp       │      timestamp       │\n",
       "├─────────────────────┼─────────────────────┼──────────────────────┼──────────────────────┤\n",
       "│ 2001-01-01 00:07:04 │ 2053-07-11 13:25:33 │ 2001-01-01 00:07:30  │ 2053-07-11 13:25:33  │\n",
       "└─────────────────────┴─────────────────────┴──────────────────────┴──────────────────────┘"
      ]
     },
     "execution_count": 56,
     "metadata": {},
     "output_type": "execute_result"
    }
   ],
   "source": [
    "con.sql(\"\"\"\n",
    "    SELECT \n",
    "        min(pickup_datetime) AS min_pickup_datetime,\n",
    "        max(pickup_datetime) AS max_pickup_datetime,\n",
    "        min(dropoff_datetime) AS min_dropoff_datetime,\n",
    "        max(dropoff_datetime) AS max_dropoff_datetime\n",
    "    FROM taxi_trip_data\n",
    "\"\"\")"
   ]
  },
  {
   "cell_type": "code",
   "execution_count": 57,
   "metadata": {},
   "outputs": [
    {
     "data": {
      "text/plain": [
       "┌───────────────────┬───────────────────┬──────────────────────┬───────────────────┐\n",
       "│ min_trip_duration │ avg_trip_duration │ median_trip_duration │ max_trip_duration │\n",
       "│       int64       │      double       │        double        │       int64       │\n",
       "├───────────────────┼───────────────────┼──────────────────────┼───────────────────┤\n",
       "│            -70446 │        35.7839582 │                 30.0 │              9730 │\n",
       "└───────────────────┴───────────────────┴──────────────────────┴───────────────────┘"
      ]
     },
     "execution_count": 57,
     "metadata": {},
     "output_type": "execute_result"
    }
   ],
   "source": [
    "con.sql(\"\"\"\n",
    "    SELECT \n",
    "        MIN(DATE_DIFF('minute', pickup_datetime, dropoff_datetime)) min_trip_duration,\n",
    "        AVG(DATE_DIFF('minute', pickup_datetime, dropoff_datetime)) avg_trip_duration,\n",
    "        MEDIAN(DATE_DIFF('minute', pickup_datetime, dropoff_datetime)) median_trip_duration,\n",
    "        MAX(DATE_DIFF('minute', pickup_datetime, dropoff_datetime)) max_trip_duration,\n",
    "    FROM taxi_trip_data\n",
    "\"\"\")"
   ]
  },
  {
   "cell_type": "code",
   "execution_count": 58,
   "metadata": {},
   "outputs": [
    {
     "data": {
      "text/plain": [
       "┌─────────────────┬────────────────────┐\n",
       "│ passenger_count │ avg_trip_distance  │\n",
       "│      int64      │       double       │\n",
       "├─────────────────┼────────────────────┤\n",
       "│               0 │  8.396401271054616 │\n",
       "│               1 │  8.783873636743975 │\n",
       "│               2 │   9.02706723072496 │\n",
       "│               3 │  9.007312645822495 │\n",
       "│               4 │  8.969550587207353 │\n",
       "│               5 │  9.056676653937778 │\n",
       "│               6 │  9.040132554182989 │\n",
       "│               7 │ 3.5426086956521745 │\n",
       "│               8 │  6.418399999999999 │\n",
       "│               9 │ 7.1225000000000005 │\n",
       "├─────────────────┴────────────────────┤\n",
       "│ 10 rows                    2 columns │\n",
       "└──────────────────────────────────────┘"
      ]
     },
     "execution_count": 58,
     "metadata": {},
     "output_type": "execute_result"
    }
   ],
   "source": [
    "con.sql(\"\"\"\n",
    "    SELECT passenger_count, AVG(trip_distance) avg_trip_distance\n",
    "    FROM taxi_trip_data\n",
    "    GROUP BY 1\n",
    "\"\"\")"
   ]
  },
  {
   "cell_type": "markdown",
   "metadata": {},
   "source": [
    "Again, we can use the rest of the libraries in Python data ecosystem to process the data by converting to `pandas` dataframe. For example, we can use `seaborn` to plot a bar chart."
   ]
  },
  {
   "cell_type": "code",
   "execution_count": 59,
   "metadata": {},
   "outputs": [
    {
     "data": {
      "text/plain": [
       "<seaborn.axisgrid.FacetGrid at 0x76ad1cee1c00>"
      ]
     },
     "execution_count": 59,
     "metadata": {},
     "output_type": "execute_result"
    },
    {
     "data": {
      "image/png": "[encoded data removed]",
      "text/plain": [
       "<Figure size 511.111x500 with 1 Axes>"
      ]
     },
     "metadata": {},
     "output_type": "display_data"
    }
   ],
   "source": [
    "df = con.sql(\"\"\"\n",
    "    SELECT passenger_count, AVG(trip_distance) avg_trip_distance\n",
    "    FROM taxi_trip_data\n",
    "    GROUP BY 1\n",
    "\"\"\").arrow().to_pandas()\n",
    "\n",
    "sns.catplot(data=df, x=\"passenger_count\", y=\"avg_trip_distance\", kind=\"bar\")"
   ]
  },
  {
   "cell_type": "markdown",
   "metadata": {},
   "source": [
    "> 1. Calculate the speed of each trip (row) in miles per hour. Then calculate the min, average, median and max.\n",
    "> 2. Calculate the average total amount by payment type.\n",
    "> 3. Calculate the average total amount by payment type and passenger count.\n",
    "> 4. Calculate the average distance rate (fare amount divide by trip distance) by vendor."
   ]
  }
 ],
 "metadata": {
  "kernelspec": {
   "display_name": "ooc",
   "language": "python",
   "name": "python3"
  },
  "language_info": {
   "codemirror_mode": {
    "name": "ipython",
    "version": 3
   },
   "file_extension": ".py",
   "mimetype": "text/x-python",
   "name": "python",
   "nbconvert_exporter": "python",
   "pygments_lexer": "ipython3",
   "version": "3.10.13"
  },
  "orig_nbformat": 4
 },
 "nbformat": 4,
 "nbformat_minor": 2
}
